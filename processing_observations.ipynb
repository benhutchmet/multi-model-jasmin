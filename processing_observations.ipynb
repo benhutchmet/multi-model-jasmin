{
 "cells": [
  {
   "cell_type": "code",
   "execution_count": null,
   "id": "5ba46b46-a9f0-41ca-a590-9e5178ef40eb",
   "metadata": {},
   "outputs": [],
   "source": [
    "# import the relevant modules\n",
    "import os\n",
    "from netCDF4 import Dataset\n",
    "import xarray as xr\n",
    "import numpy as np"
   ]
  },
  {
   "cell_type": "code",
   "execution_count": null,
   "id": "e344468d-8e09-4bdb-b52a-0850148a6837",
   "metadata": {},
   "outputs": [],
   "source": [
    "# processing the observations\n",
    "# trying to do it correctly\n",
    "\n",
    "# path for the full .nc file\n",
    "# will likely need to load this in chunks with dask\n",
    "path_obs_nc = \"/home/users/benhutch/ERA5_psl/ERA5-full-data.nc\""
   ]
  },
  {
   "cell_type": "code",
   "execution_count": null,
   "id": "72abdaf4-a0d1-42b3-966e-0a7eb848a346",
   "metadata": {},
   "outputs": [],
   "source": [
    "# write a function to first select the iceland and azores //\n",
    "# gridboxes\n",
    "# also remap the obs data to a 2.5x2.5 degree grid\n",
    "# first define the new grid\n",
    "def create_new_grid():\n",
    "    \n",
    "    lon = np.arange(-180, 180, 2.5)\n",
    "    lat = np.arange(-90, 90, 2.5)\n",
    "    \n",
    "    return xr.Dataset({'lon': (['lon'], lon),\n",
    "                       'lat': (['lat'], lat)})\n",
    "\n",
    "# define a function to select the data within a grid\n",
    "def select_data_within_grid(dataset, grid):\n",
    "    new_grid = create_new_grid()\n",
    "    # interpolate dataset to new grid\n",
    "    ds_interp = dataset.interp_like(new_grid, method='linear')  # Change 'linear' to 'nearest' for nearest neighbour interpolation\n",
    "    return ds_interp.sel(lon=slice(grid['lon1'], grid['lon2']), lat=slice(grid['lat1'], grid['lat2']))"
   ]
  },
  {
   "cell_type": "code",
   "execution_count": null,
   "id": "08f18130-4db1-4563-8200-59171aa992d9",
   "metadata": {},
   "outputs": [],
   "source": [
    "# define the main function\n",
    "def main(location, baseline):\n",
    "    model_files = create_directory_structure(location)\n",
    "    output_file = \"/home/users/benhutch/ERA5_psl/{}-multi-model-ensemble-mean-state.nc\".format(location)\n",
    "    calculate_multi_model_ensemble_mean_state(model_files, output_file)\n",
    "\n",
    "    grid = get_grid_spec(location)\n",
    "\n",
    "    input_file = \"/home/users/benhutch/ERA5_psl/adaptor.mars.internal-1669912474.882154-28712-3-70ecc8cf-50c6-4c45-967a-01d26ddaae07.nc\"\n",
    "    ds = xr.open_dataset(input_file, chunks={'time': 'auto'})  # Dask integrates with xarray via the chunks argument\n",
    "    ds_within_grid = select_data_within_grid(ds, grid).compute()  # The computation isn't actually performed until you call .compute()\n",
    "\n",
    "    # Write selected data to a new file\n",
    "    output_file = \"/home/users/benhutch/ERA5_psl/ERA5.{}-gridbox.psl.nc\".format(location)\n",
    "    ds_within_grid.to_netcdf(output_file)\n"
   ]
  }
 ],
 "metadata": {
  "kernelspec": {
   "display_name": "bens-python-environment",
   "language": "python",
   "name": "bens-python-environment"
  },
  "language_info": {
   "codemirror_mode": {
    "name": "ipython",
    "version": 3
   },
   "file_extension": ".py",
   "mimetype": "text/x-python",
   "name": "python",
   "nbconvert_exporter": "python",
   "pygments_lexer": "ipython3",
   "version": "3.10.5"
  }
 },
 "nbformat": 4,
 "nbformat_minor": 5
}
