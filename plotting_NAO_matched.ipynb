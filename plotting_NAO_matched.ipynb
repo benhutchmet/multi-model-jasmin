{
 "cells": [
  {
   "cell_type": "code",
   "execution_count": null,
   "metadata": {},
   "outputs": [],
   "source": [
    "# Import the relevant modules\n",
    "import numpy as np\n",
    "import os\n",
    "import pandas as pd\n",
    "import matplotlib.pyplot as plt\n",
    "import xarray as xr\n",
    "\n",
    "from scipy.stats import pearsonr\n",
    "from sklearn.utils import resample"
   ]
  },
  {
   "cell_type": "code",
   "execution_count": null,
   "metadata": {},
   "outputs": [],
   "source": [
    "# Import the relevant libraries\n",
    "import dictionaries\n",
    "import functions\n",
    "import NAO_matching"
   ]
  },
  {
   "cell_type": "code",
   "execution_count": null,
   "metadata": {},
   "outputs": [],
   "source": [
    "# First import the observation dataset\n",
    "obs = xr.open_dataset(dictionaries.obs_long, chunks={'time': 10})\n",
    "\n",
    "# Now import the model data\n",
    "# Using the load_ensemble_members function from functions.py\n",
    "datasets_by_model = functions.load_ensemble_members(dictionaries.JASMIN_ind_dir, dictionaries.models)"
   ]
  },
  {
   "cell_type": "code",
   "execution_count": null,
   "metadata": {},
   "outputs": [],
   "source": [
    "# Process the observations to get the NAO index\n",
    "obs_nao_anom, obs_time = functions.process_obs(obs)\n",
    "\n",
    "# Now process the model data\n",
    "model_time_by_model, model_nao_anom_by_model = functions.process_ensemble_members(datasets_by_model)"
   ]
  },
  {
   "cell_type": "code",
   "execution_count": null,
   "metadata": {},
   "outputs": [],
   "source": [
    "# Specify the number of members to select for NAO-matching\n",
    "n_members = 10\n",
    "\n",
    "# Set up the years to plot\n",
    "# in datetime format\n",
    "# from 1966 to 2019\n",
    "years = pd.date_range(start='1966', end='2019', freq='YS')\n",
    "print(\"Years to plot: \", years)\n",
    "\n",
    "# Call the NAO-matching plotting function\n",
    "NAO_matching.plot_NAO_matched(dictionaries.models, model_time_by_model, model_nao_anom_by_model, obs_nao_anom, obs_time, years, n_members)"
   ]
  }
 ],
 "metadata": {
  "language_info": {
   "name": "python"
  },
  "orig_nbformat": 4
 },
 "nbformat": 4,
 "nbformat_minor": 2
}
