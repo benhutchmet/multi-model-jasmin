{
 "cells": [
  {
   "cell_type": "code",
   "execution_count": null,
   "id": "e344468d-8e09-4bdb-b52a-0850148a6837",
   "metadata": {},
   "outputs": [],
   "source": [
    "# processing the observations\n",
    "# trying to do it correctly"
   ]
  }
 ],
 "metadata": {
  "kernelspec": {
   "display_name": "bens-python-environment",
   "language": "python",
   "name": "bens-python-environment"
  },
  "language_info": {
   "codemirror_mode": {
    "name": "ipython",
    "version": 3
   },
   "file_extension": ".py",
   "mimetype": "text/x-python",
   "name": "python",
   "nbconvert_exporter": "python",
   "pygments_lexer": "ipython3",
   "version": "3.10.5"
  }
 },
 "nbformat": 4,
 "nbformat_minor": 5
}
