{
 "cells": [
  {
   "cell_type": "code",
   "execution_count": null,
   "metadata": {},
   "outputs": [],
   "source": [
    "# import the relevant modules\n",
    "import os\n",
    "import numpy as np\n",
    "import pandas as pd\n",
    "import matplotlib.pyplot as plt\n",
    "import xarray as xr\n",
    "from scipy.stats import pearsonr\n",
    "\n",
    "# import the functions and dictionaries\n",
    "import dictionaries\n",
    "import functions"
   ]
  },
  {
   "cell_type": "code",
   "execution_count": null,
   "metadata": {},
   "outputs": [],
   "source": [
    "# First import the observation dataset\n",
    "obs = xr.open_dataset(dictionaries.obs, chunks={'time': 10})\n",
    "\n",
    "# Now import the model data\n",
    "# Using the load_ensemble_members function from functions.py\n",
    "datasets_by_model = functions.load_ensemble_members(dictionaries.JASMIN_ind_dir, dictionaries.models)"
   ]
  },
  {
   "cell_type": "code",
   "execution_count": null,
   "metadata": {},
   "outputs": [],
   "source": [
    "# Now process the data to get the NAO index\n",
    "# For the observations first\n",
    "# Using the process_model_dataset function from functions.py\n",
    "# Which is nested inside the process_ensemble_members function\n",
    "# ---- THIS MIGHT NOT WORK ----\n",
    "obs_time, obs_nao = functions.process_model_dataset(obs)\n",
    "\n",
    "# Now process the individual ensemble members\n",
    "# Using the process_ensemble_members function from functions.py\n",
    "# ---- THIS MIGHT NOT WORK EITHER ----\n",
    "model_time_by_model, model_nao_anoms_by_model = functions.process_ensemble_members(datasets_by_model)"
   ]
  },
  {
   "cell_type": "code",
   "execution_count": null,
   "metadata": {},
   "outputs": [],
   "source": [
    "# Now call the plotting function\n",
    "# plot_ensemble_members_and_mean function from functions.py\n",
    "# ---- THIS MIGHT NOT WORK EITHER ----\n",
    "functions.plot_ensemble_members_and_mean(dictionaries.models, model_time_by_model, model_nao_anoms_by_model, obs_nao, obs_time)"
   ]
  }
 ],
 "metadata": {
  "language_info": {
   "name": "python"
  },
  "orig_nbformat": 4
 },
 "nbformat": 4,
 "nbformat_minor": 2
}
